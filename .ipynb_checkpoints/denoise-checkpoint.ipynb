{
 "cells": [
  {
   "cell_type": "markdown",
   "metadata": {},
   "source": [
    "<h1 align=\"center\">ECG signal denoising using discrete wavelet transform (DWT) signal  processing technique in python using PyWavelet </h1> "
   ]
  },
  {
   "cell_type": "code",
   "execution_count": null,
   "metadata": {},
   "outputs": [],
   "source": [
    "# Welcome to the ECG Signal processing, please note these program has two parts \n",
    "# Part one is used to process noisy ECG signals, Please run line by line till the end of the first part\n",
    "# Part two is for ECG signals without noise\n",
    "# The output file is saved as data1.csv in the folder, reselect this file for classification in the java app\n"
   ]
  },
  {
   "cell_type": "markdown",
   "metadata": {},
   "source": [
    "## PART ONE - Noisy ECG Signal Processing - RUN LINE by LINE till the END"
   ]
  },
  {
   "cell_type": "code",
   "execution_count": null,
   "metadata": {},
   "outputs": [],
   "source": [
    "import pywt\n",
    "import pandas as pd\n",
    "import numpy as np\n",
    "import heartpy as hp\n",
    "import matplotlib.pyplot as plt\n",
    "import scipy.signal as signal\n"
   ]
  },
  {
   "cell_type": "code",
   "execution_count": null,
   "metadata": {},
   "outputs": [],
   "source": [
    "\n",
    "print('Enter ECG Data to denoise')\n",
    "file = input(\"Input File path: \")\n",
    "\n",
    "data = pd.read_csv(file)\n",
    "\n",
    "data.head()\n",
    "\n",
    "ecg = data.iloc[:,1] # select the second column which is the voltage\n",
    "\n",
    "print(ecg[0:20])\n",
    "\n",
    "fs = 360\n",
    "t = np.arange(len(data))/fs #time of the data, convert sampling frequency to time domain"
   ]
  },
  {
   "cell_type": "code",
   "execution_count": null,
   "metadata": {},
   "outputs": [],
   "source": [
    "coeffs = pywt.wavedec(ecg, 'db4', level=4) # perform 4 level decomp with the sym4 wavelet"
   ]
  },
  {
   "cell_type": "code",
   "execution_count": null,
   "metadata": {},
   "outputs": [],
   "source": [
    "cA4, cD4, cD3, cD2, cD1 = coeffs # wave decompose returns a data array [cA_n, cD_n, cD_n-1, …, cD2, cD1]"
   ]
  },
  {
   "cell_type": "code",
   "execution_count": null,
   "metadata": {},
   "outputs": [],
   "source": [
    "print(cD1)"
   ]
  },
  {
   "cell_type": "code",
   "execution_count": null,
   "metadata": {},
   "outputs": [],
   "source": [
    "rdata = pywt.idwt(cA4, cD4, 'sym4') # reconstructed ECG data without noise "
   ]
  },
  {
   "cell_type": "code",
   "execution_count": null,
   "metadata": {},
   "outputs": [],
   "source": [
    "ecg1 = ecg[0:400] # plot for 500 data-points \n",
    "t = t[0:400]\n",
    "cD1 = cD1[0:400]\n",
    "cD2 = cD2[0:400]\n",
    "cD3 = cD3[0:400]\n",
    "cD4 = cD4[0:400]\n",
    "rdata = rdata[0:400]\n",
    "\n",
    "\n",
    "\n",
    "plt.figure(figsize=(20,20))\n",
    "\n",
    "plt.subplot(6,1,1)\n",
    "plt.plot(t,ecg1, color='r')\n",
    "plt.ylabel('Amplitude')\n",
    "plt.title('Original ECG Data')\n",
    "\n",
    "plt.subplot(6,1,2)\n",
    "plt.plot(t,cD1, color='k')\n",
    "plt.ylabel('Amplitude')\n",
    "plt.title('level 1 decomposition')\n",
    "\n",
    "plt.subplot(6,1,3)\n",
    "plt.plot(t,cD2, color='y')\n",
    "plt.ylabel('Amplitude')\n",
    "plt.title('level 2 decomposition')\n",
    "\n",
    "plt.subplot(6,1,4)\n",
    "plt.plot(t,cD3, color='b')\n",
    "plt.ylabel('Amplitude')\n",
    "plt.title('level 3 decomposition')\n",
    "\n",
    "plt.subplot(6,1,5)\n",
    "plt.plot(t,cD4, color='g')\n",
    "plt.ylabel('Amplitude')\n",
    "plt.title('level 4 decomposition')\n",
    "\n",
    "plt.subplot(6,1,6)\n",
    "plt.plot(t,rdata, color='m')\n",
    "\n",
    "plt.ylabel('Amplitude')\n",
    "plt.xlabel('Time')\n",
    "plt.title('Reconstructed Denoised ECG Data')\n",
    "plt.savefig('denoised_ECG.png', dpi=100)\n"
   ]
  },
  {
   "cell_type": "code",
   "execution_count": null,
   "metadata": {},
   "outputs": [],
   "source": [
    "from scipy.signal import resample\n",
    "#resample the data. Usually 2, 4, or 6 times is enough depending on original sampling rate\n",
    "resampled_data = resample(rdata, len(rdata) * 4)\n",
    "\n",
    "\n",
    "plt.figure(figsize=(12,3))\n",
    "plt.plot(resampled_data[0:400])\n",
    "plt.show\n",
    "\n",
    "wd, m = hp.process(hp.scale_data(resampled_data), fs)\n",
    "\n",
    "plt.figure(figsize=(100,20))\n",
    "hp.plotter(wd, m)\n",
    "\n",
    "for measure in m.keys():\n",
    "    print('%s: %f' %(measure, m[measure]))\n",
    "        \n",
    "#plot poincare\n",
    "hp.plot_poincare(wd, m)\n"
   ]
  },
  {
   "cell_type": "code",
   "execution_count": null,
   "metadata": {},
   "outputs": [],
   "source": [
    "my_data = rdata[0:186]\n",
    "j = signal.resample(my_data,186)"
   ]
  },
  {
   "cell_type": "code",
   "execution_count": null,
   "metadata": {},
   "outputs": [],
   "source": [
    "jsquared =j*j# square the resampled data\n",
    "jrnd = np.round(jsquared,3)# round data to 3 decimal placess\n",
    "jrnd1 = np.concatenate((jrnd,\"?\"),axis=None)#for csv generation for classifying with java application\n",
    "print(jrnd1)\n",
    "df = pd.DataFrame(jrnd1).T\n",
    "df.to_csv('data1.csv',header=False)"
   ]
  },
  {
   "cell_type": "markdown",
   "metadata": {},
   "source": [
    "## ## PART TWO - Noiseless ECG Signal Processing - RUN LINE by LINE till the END"
   ]
  },
  {
   "cell_type": "code",
   "execution_count": null,
   "metadata": {},
   "outputs": [],
   "source": [
    "import pywt\n",
    "import pandas as pd\n",
    "import numpy as np\n",
    "import heartpy as hp\n",
    "import matplotlib.pyplot as plt\n",
    "import scipy.signal as signal"
   ]
  },
  {
   "cell_type": "code",
   "execution_count": null,
   "metadata": {},
   "outputs": [],
   "source": [
    "print('Enter ECG Data to denoise')\n",
    "file = input(\"Input File path: \")\n",
    "\n",
    "data = pd.read_csv(file)\n",
    "\n",
    "data.head()\n",
    "\n",
    "ecg = data.iloc[:,1] # select the second column which is the voltage\n",
    "\n",
    "print(ecg[0:20])\n",
    "\n",
    "fs = 360 # be sure to input the right sampling frequency\n",
    "t = np.arange(len(data))/fs #time of the data, convert sampling frequency to time domain"
   ]
  },
  {
   "cell_type": "code",
   "execution_count": null,
   "metadata": {},
   "outputs": [],
   "source": [
    "ecg1 = ecg[0:400] # plot for 500 data-points \n",
    "t = t[0:400]"
   ]
  },
  {
   "cell_type": "code",
   "execution_count": null,
   "metadata": {},
   "outputs": [],
   "source": [
    "plt.figure(figsize=(100,20))\n",
    "plt.plot(t,ecg1, color='r')\n",
    "plt.ylabel('Amplitude')\n",
    "plt.title('Original ECG Data')"
   ]
  },
  {
   "cell_type": "code",
   "execution_count": null,
   "metadata": {},
   "outputs": [],
   "source": [
    "from scipy.signal import resample\n",
    "#resample the data. Usually 2, 4, or 6 times is enough depending on original sampling rate\n",
    "resampled_data = resample(ecg, len(ecg) * 4)\n",
    "\n",
    "\n",
    "plt.figure(figsize=(12,3))\n",
    "plt.plot(resampled_data[0:400])\n",
    "plt.show\n",
    "\n",
    "wd, m = hp.process(hp.scale_data(resampled_data), fs)\n",
    "\n",
    "plt.figure(figsize=(100,20))\n",
    "hp.plotter(wd, m)\n",
    "\n",
    "for measure in m.keys():\n",
    "    print('%s: %f' %(measure, m[measure]))\n",
    "        \n",
    "#plot poincare\n",
    "hp.plot_poincare(wd, m)"
   ]
  },
  {
   "cell_type": "code",
   "execution_count": null,
   "metadata": {},
   "outputs": [],
   "source": [
    "my_data = ecg[0:186]\n",
    "j = signal.resample(my_data,186) #resample data to process ECG data"
   ]
  },
  {
   "cell_type": "code",
   "execution_count": null,
   "metadata": {},
   "outputs": [],
   "source": [
    "jsquared =j*j# square the resampled data\n",
    "jrnd = np.round(jsquared,3)# round data to 3 decimal placess\n",
    "jrnd1 = np.concatenate((jrnd,\"?\"),axis=None)#for csv generation for classifying with java application\n",
    "print(jrnd1)\n",
    "df = pd.DataFrame(jrnd1).T\n",
    "df.to_csv('data1.csv',header=False) # output file as csv"
   ]
  },
  {
   "cell_type": "code",
   "execution_count": null,
   "metadata": {},
   "outputs": [],
   "source": []
  }
 ],
 "metadata": {
  "kernelspec": {
   "display_name": "Python 3",
   "language": "python",
   "name": "python3"
  },
  "language_info": {
   "codemirror_mode": {
    "name": "ipython",
    "version": 3
   },
   "file_extension": ".py",
   "mimetype": "text/x-python",
   "name": "python",
   "nbconvert_exporter": "python",
   "pygments_lexer": "ipython3",
   "version": "3.8.3"
  }
 },
 "nbformat": 4,
 "nbformat_minor": 2
}
